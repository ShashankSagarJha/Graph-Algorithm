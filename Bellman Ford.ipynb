{
 "cells": [
  {
   "cell_type": "code",
   "execution_count": 1,
   "metadata": {},
   "outputs": [],
   "source": [
    "import sys"
   ]
  },
  {
   "cell_type": "code",
   "execution_count": 2,
   "metadata": {},
   "outputs": [],
   "source": [
    "class Edge(object):\n",
    "    def __init__(self,weight,startVertex,endVertex):\n",
    "        self.weight=weight\n",
    "        self.startVertex=startVertex\n",
    "        self.endVertex=endVertex"
   ]
  },
  {
   "cell_type": "code",
   "execution_count": 3,
   "metadata": {},
   "outputs": [],
   "source": [
    "class Node(object):\n",
    "    def __init__(self,name):\n",
    "        self.name=name\n",
    "        self.distance=sys.maxsize\n",
    "        self.predecessor=None\n",
    "        self.neighbour=[]"
   ]
  },
  {
   "cell_type": "code",
   "execution_count": 4,
   "metadata": {},
   "outputs": [],
   "source": [
    "class Algorithm(object):\n",
    "    Has_Cycle=False\n",
    "    def bellmanFord(self,vertexList,edgeList,source):\n",
    "        source.distance=0\n",
    "        for i in range(len(vertexList)-1):\n",
    "            for edge in edgeList:\n",
    "                u=edge.startVertex\n",
    "                v=edge.endVertex\n",
    "                \n",
    "                if u.distance+edge.weight<v.distance:#relaxation step\n",
    "                    v.distance=u.distance+edge.weight\n",
    "                    v.predecessor=u\n",
    "                    \n",
    "        for edge in edgeList:\n",
    "            if self.hasCycle(edge):\n",
    "                print(\"Bad News: Negative cycle detected\")\n",
    "                Algorithm.Has_Cycle=True\n",
    "                return True\n",
    "        print(\"Good News: No negative cycle detected\")\n",
    "        return False\n",
    "    \n",
    "    def hasCycle(self,edge):\n",
    "        u=edge.startVertex\n",
    "        v=edge.endVertex        \n",
    "        if u.distance+edge.weight<v.distance:\n",
    "            return True\n",
    "        return False\n",
    "    \n",
    "    def print_shortest_path(self,target):\n",
    "        if Algorithm.Has_Cycle:return False\n",
    "        node=target\n",
    "        print(\"Shortest path is\",node.distance)\n",
    "        while node is not None:\n",
    "            print(node.name,\"--> \",end=\"\")\n",
    "            node = node.predecessor"
   ]
  },
  {
   "cell_type": "code",
   "execution_count": 5,
   "metadata": {},
   "outputs": [],
   "source": [
    "node1 = Node(\"A\");\n",
    "node2 = Node(\"B\");\n",
    "node3 = Node(\"C\");\n",
    "node4 = Node(\"D\");\n",
    "node5 = Node(\"E\");\n",
    "node6 = Node(\"F\");\n",
    "node7 = Node(\"G\");\n",
    "node8 = Node(\"H\");\n",
    "\n",
    "edge1 = Edge(5,node1,node2);\n",
    "edge2 = Edge(8,node1,node8);\n",
    "edge3 = Edge(9,node1,node5);\n",
    "edge4 = Edge(15,node2,node4);\n",
    "edge5 = Edge(12,node2,node3);\n",
    "edge6 = Edge(4,node2,node8);\n",
    "edge7 = Edge(7,node8,node3);\n",
    "edge8 = Edge(6,node8,node6);\n",
    "edge9 = Edge(5,node5,node8);\n",
    "edge10 = Edge(4,node5,node6);\n",
    "edge11 = Edge(20,node5,node7);\n",
    "edge12 = Edge(1,node6,node3);\n",
    "edge13 = Edge(13,node6,node7);\n",
    "edge14 = Edge(3,node3,node4);\n",
    "edge15 = Edge(11,node3,node7);\n",
    "edge16 = Edge(9,node4,node7);\n",
    "\n",
    "node1.neighbour.append(edge1);\n",
    "node1.neighbour.append(edge2);\n",
    "node1.neighbour.append(edge3);\n",
    "node2.neighbour.append(edge4);\n",
    "node2.neighbour.append(edge5);\n",
    "node2.neighbour.append(edge6);\n",
    "node8.neighbour.append(edge7);\n",
    "node8.neighbour.append(edge8);\n",
    "node5.neighbour.append(edge9);\n",
    "node5.neighbour.append(edge10);\n",
    "node5.neighbour.append(edge11);\n",
    "node6.neighbour.append(edge12);\n",
    "node6.neighbour.append(edge13);\n",
    "node3.neighbour.append(edge14);\n",
    "node3.neighbour.append(edge15);\n",
    "node4.neighbour.append(edge16);"
   ]
  },
  {
   "cell_type": "code",
   "execution_count": 6,
   "metadata": {},
   "outputs": [],
   "source": [
    "vertexList = (node1,node2,node3, node4, node5, node6, node7, node8);\n",
    "edgeList = (edge1,edge2,edge3,edge4,edge5,edge6,edge7,edge8,edge9,edge10,edge11,edge12,edge13,edge14,edge15,edge16);\n"
   ]
  },
  {
   "cell_type": "code",
   "execution_count": 7,
   "metadata": {},
   "outputs": [
    {
     "name": "stdout",
     "output_type": "stream",
     "text": [
      "Good News: No negative cycle detected\n",
      "Shortest path is 25\n",
      "G --> C --> F --> E --> A --> "
     ]
    }
   ],
   "source": [
    "algorithm = Algorithm();\n",
    "algorithm.bellmanFord(vertexList, edgeList, node1);\n",
    "algorithm.print_shortest_path(node7);"
   ]
  },
  {
   "cell_type": "code",
   "execution_count": null,
   "metadata": {},
   "outputs": [],
   "source": []
  }
 ],
 "metadata": {
  "kernelspec": {
   "display_name": "Python 3",
   "language": "python",
   "name": "python3"
  },
  "language_info": {
   "codemirror_mode": {
    "name": "ipython",
    "version": 3
   },
   "file_extension": ".py",
   "mimetype": "text/x-python",
   "name": "python",
   "nbconvert_exporter": "python",
   "pygments_lexer": "ipython3",
   "version": "3.7.3"
  }
 },
 "nbformat": 4,
 "nbformat_minor": 2
}
