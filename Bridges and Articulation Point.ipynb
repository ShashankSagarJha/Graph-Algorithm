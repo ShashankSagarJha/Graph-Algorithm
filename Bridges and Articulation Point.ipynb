{
 "cells": [
  {
   "cell_type": "code",
   "execution_count": 14,
   "metadata": {},
   "outputs": [],
   "source": [
    "class Node(object):\n",
    "    def __init__(self,name):\n",
    "        self.name=name\n",
    "        self.visited=False\n",
    "        self.neighbour=[]\n",
    "        self.visited_time=0\n",
    "        self.low=0"
   ]
  },
  {
   "cell_type": "code",
   "execution_count": 15,
   "metadata": {},
   "outputs": [],
   "source": [
    "class Edge(object):\n",
    "    def __init__(self,start_vertex,end_vertex):\n",
    "        self.start_vertex=start_vertex\n",
    "        self.end_vertex=end_vertex"
   ]
  },
  {
   "cell_type": "code",
   "execution_count": 16,
   "metadata": {},
   "outputs": [],
   "source": [
    "node1 = Node(\"A\");\n",
    "node2 = Node(\"B\");\n",
    "node3 = Node(\"C\");\n",
    "node4 = Node(\"D\");\n",
    "node5 = Node(\"E\");\n",
    "node6 = Node(\"F\");\n",
    "node7 = Node(\"G\");\n",
    "node8 = Node(\"H\");"
   ]
  },
  {
   "cell_type": "code",
   "execution_count": 17,
   "metadata": {},
   "outputs": [],
   "source": [
    "edge1 = Edge(node1,node2);\n",
    "edge2 = Edge(node2,node3);\n",
    "edge3 = Edge(node3,node1);\n",
    "edge4 = Edge(node3,node4);\n",
    "edge5 = Edge(node4,node5);\n",
    "edge6 = Edge(node5,node6);\n",
    "edge7 = Edge(node5,node7);\n",
    "edge8 = Edge(node6,node7);\n",
    "edge9 = Edge(node6,node8);"
   ]
  },
  {
   "cell_type": "code",
   "execution_count": 18,
   "metadata": {},
   "outputs": [],
   "source": [
    "edge_list=[edge1,edge2,edge3,edge4,edge5,edge6,edge7,edge8,edge9]\n",
    "vertexList = [node1,node2,node3, node4, node5, node6, node7, node8]"
   ]
  },
  {
   "cell_type": "code",
   "execution_count": 19,
   "metadata": {},
   "outputs": [],
   "source": [
    "for i in edge_list:\n",
    "    i.start_vertex.neighbour.append(i.end_vertex)\n",
    "    i.end_vertex.neighbour.append(i.start_vertex)"
   ]
  },
  {
   "cell_type": "code",
   "execution_count": 20,
   "metadata": {},
   "outputs": [
    {
     "name": "stdout",
     "output_type": "stream",
     "text": [
      "A->B,C,\n",
      "B->A,C,\n",
      "C->B,A,D,\n",
      "D->C,E,\n",
      "E->D,F,G,\n",
      "F->E,G,H,\n",
      "G->E,F,\n",
      "H->F,\n"
     ]
    }
   ],
   "source": [
    "for i in vertexList:\n",
    "    print(i.name,end=\"->\")\n",
    "    for j in i.neighbour:\n",
    "        print(j.name,end=\",\")\n",
    "    print(\"\")"
   ]
  },
  {
   "cell_type": "code",
   "execution_count": 21,
   "metadata": {},
   "outputs": [],
   "source": [
    "#How to detect articulation point?\n",
    "#Answer: 2 condition\n",
    "#1.root vertex with 2 independent children\n",
    "#2.visited time <= low time of any vertex"
   ]
  },
  {
   "cell_type": "markdown",
   "metadata": {},
   "source": [
    "### Bridges"
   ]
  },
  {
   "cell_type": "code",
   "execution_count": 9,
   "metadata": {},
   "outputs": [],
   "source": [
    "def find_bridge(node,parent):\n",
    "    global ids\n",
    "    node.visited=True\n",
    "    node.visited_time=ids\n",
    "    node.low=ids\n",
    "    ids+=1\n",
    "    for to in node.neighbour:\n",
    "        if to==parent:continue\n",
    "        if to.visited==False:\n",
    "            find_bridge(to,node)\n",
    "            node.low=min(to.low,node.low)\n",
    "            if node.visited_time<to.low:\n",
    "                print(\"Edge {}{} is bridge\".format(node.name,to.name))\n",
    "        else:\n",
    "            node.low=min(node.low,to.visited_time)   "
   ]
  },
  {
   "cell_type": "code",
   "execution_count": 10,
   "metadata": {},
   "outputs": [
    {
     "name": "stdout",
     "output_type": "stream",
     "text": [
      "Edge FH is bridge\n",
      "Edge DE is bridge\n",
      "Edge CD is bridge\n"
     ]
    }
   ],
   "source": [
    "ids=0\n",
    "for i in vertexList:\n",
    "    if i.visited==False:\n",
    "        find_bridge(i,None)  "
   ]
  },
  {
   "cell_type": "markdown",
   "metadata": {},
   "source": [
    "### Articulation Point"
   ]
  },
  {
   "cell_type": "code",
   "execution_count": 22,
   "metadata": {},
   "outputs": [],
   "source": [
    "def articulation_point(root,node,parent):\n",
    "    global ids,out_edge\n",
    "    if parent==root:out_edge+=1\n",
    "    node.visited=True\n",
    "    node.visited_time=ids\n",
    "    node.low=ids\n",
    "    ids+=1\n",
    "    for to in node.neighbour:\n",
    "        if to==parent:continue\n",
    "        if to.visited==False:\n",
    "            articulation_point(root,to,node)\n",
    "            node.low=min(to.low,node.low)\n",
    "            if node.visited_time<=to.low:\n",
    "                print(\"Node {} is articulation point\".format(node.name))\n",
    "        else:\n",
    "            node.low=min(node.low,to.visited_time)  "
   ]
  },
  {
   "cell_type": "code",
   "execution_count": 23,
   "metadata": {},
   "outputs": [
    {
     "name": "stdout",
     "output_type": "stream",
     "text": [
      "Node F is articulation point\n",
      "Node E is articulation point\n",
      "Node D is articulation point\n",
      "Node C is articulation point\n",
      "Node A is articulation point\n"
     ]
    }
   ],
   "source": [
    "ids=0\n",
    "for i in vertexList:\n",
    "    if i.visited==False:\n",
    "        out_edge=0\n",
    "        articulation_point(i,i,None)  \n",
    "        if out_edge>1:\n",
    "            print(\"{} is also an articulation point\".format(i.name))"
   ]
  },
  {
   "cell_type": "code",
   "execution_count": null,
   "metadata": {},
   "outputs": [],
   "source": []
  }
 ],
 "metadata": {
  "kernelspec": {
   "display_name": "Python 3",
   "language": "python",
   "name": "python3"
  },
  "language_info": {
   "codemirror_mode": {
    "name": "ipython",
    "version": 3
   },
   "file_extension": ".py",
   "mimetype": "text/x-python",
   "name": "python",
   "nbconvert_exporter": "python",
   "pygments_lexer": "ipython3",
   "version": "3.7.3"
  }
 },
 "nbformat": 4,
 "nbformat_minor": 2
}
