{
 "cells": [
  {
   "cell_type": "code",
   "execution_count": 100,
   "metadata": {},
   "outputs": [],
   "source": [
    "class Node(object):\n",
    "    def __init__(self,name):\n",
    "        self.name=name\n",
    "        self.visited=False\n",
    "        self.neighbour=[]"
   ]
  },
  {
   "cell_type": "code",
   "execution_count": 101,
   "metadata": {},
   "outputs": [],
   "source": [
    "node0=Node(\"A\")\n",
    "node1=Node(\"B\")\n",
    "node2=Node(\"C\")\n",
    "node3=Node(\"D\")\n",
    "node4=Node(\"E\")\n",
    "node5=Node(\"F\")"
   ]
  },
  {
   "cell_type": "code",
   "execution_count": 102,
   "metadata": {},
   "outputs": [],
   "source": [
    "node0.neighbour.append(node1)\n",
    "node1.neighbour.append(node0)\n",
    "node1.neighbour.append(node2)\n",
    "node2.neighbour.append(node1)\n",
    "\n",
    "node3.neighbour.append(node4)\n",
    "node4.neighbour.append(node3)\n",
    "\n",
    "#node1.neighbour.append(node4)\n",
    "#node4.neighbour.append(node5)"
   ]
  },
  {
   "cell_type": "code",
   "execution_count": 103,
   "metadata": {},
   "outputs": [],
   "source": [
    "node_list=[node0,node1,node2,node3,node4,node5]"
   ]
  },
  {
   "cell_type": "code",
   "execution_count": 104,
   "metadata": {},
   "outputs": [],
   "source": [
    "def connected_component(node):\n",
    "    if node.visited==True:return\n",
    "    node.visited=True\n",
    "    print(node.name,end=\"\")\n",
    "    for i in node.neighbour:\n",
    "        if i.visited==False:\n",
    "            connected_component(i)\n",
    "            "
   ]
  },
  {
   "cell_type": "code",
   "execution_count": 105,
   "metadata": {},
   "outputs": [
    {
     "name": "stdout",
     "output_type": "stream",
     "text": [
      "ABC\n",
      "DE\n",
      "F\n"
     ]
    }
   ],
   "source": [
    "for i in node_list:\n",
    "    if i.visited==False:\n",
    "        connected_component(i)\n",
    "        print(\"\")"
   ]
  },
  {
   "cell_type": "code",
   "execution_count": 106,
   "metadata": {},
   "outputs": [],
   "source": [
    "node0.visited=False\n",
    "node1.visited=False\n",
    "node2.visited=False\n",
    "node3.visited=False\n",
    "node4.visited=False\n",
    "node5.visited=False"
   ]
  },
  {
   "cell_type": "code",
   "execution_count": 107,
   "metadata": {},
   "outputs": [],
   "source": [
    "def connected_component2(node,temp):\n",
    "    if node.visited==True:return \"\"\n",
    "    node.visited=True\n",
    "    temp+=node.name\n",
    "    for i in node.neighbour:\n",
    "        if i.visited==False:\n",
    "            temp+=connected_component2(i,\"\")\n",
    "    return temp"
   ]
  },
  {
   "cell_type": "code",
   "execution_count": 108,
   "metadata": {},
   "outputs": [
    {
     "name": "stdout",
     "output_type": "stream",
     "text": [
      "ABC\n",
      "DE\n",
      "F\n"
     ]
    }
   ],
   "source": [
    "for i in node_list:\n",
    "    a=connected_component2(i,\"\")\n",
    "    if len(a)>0:print(a)"
   ]
  }
 ],
 "metadata": {
  "kernelspec": {
   "display_name": "Python 3",
   "language": "python",
   "name": "python3"
  },
  "language_info": {
   "codemirror_mode": {
    "name": "ipython",
    "version": 3
   },
   "file_extension": ".py",
   "mimetype": "text/x-python",
   "name": "python",
   "nbconvert_exporter": "python",
   "pygments_lexer": "ipython3",
   "version": "3.7.3"
  }
 },
 "nbformat": 4,
 "nbformat_minor": 2
}
