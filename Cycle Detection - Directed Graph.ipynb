{
 "cells": [
  {
   "cell_type": "code",
   "execution_count": 103,
   "metadata": {},
   "outputs": [],
   "source": [
    "class Node(object):\n",
    "    def __init__(self,name):\n",
    "        self.name=name\n",
    "        self.neighbour=[]\n",
    "        self.visited=False\n",
    "        self.done=False"
   ]
  },
  {
   "cell_type": "code",
   "execution_count": 104,
   "metadata": {},
   "outputs": [],
   "source": [
    "node1=Node(\"A\")\n",
    "node2=Node(\"B\")\n",
    "node3=Node(\"C\")\n",
    "node4=Node(\"D\")\n",
    "node5=Node(\"E\")\n",
    "node6=Node(\"F\")"
   ]
  },
  {
   "cell_type": "code",
   "execution_count": 105,
   "metadata": {},
   "outputs": [],
   "source": [
    "node1.neighbour.append(node2)\n",
    "node1.neighbour.append(node3)\n",
    "node1.neighbour.append(node4)\n",
    "node2.neighbour.append(node3)\n",
    "node4.neighbour.append(node5)\n",
    "node5.neighbour.append(node6)\n",
    "node6.neighbour.append(node4)"
   ]
  },
  {
   "cell_type": "code",
   "execution_count": 106,
   "metadata": {},
   "outputs": [],
   "source": [
    "nodes=[node1,node2,node3,node4,node5,node6]"
   ]
  },
  {
   "cell_type": "code",
   "execution_count": 107,
   "metadata": {},
   "outputs": [],
   "source": [
    "introduced={}"
   ]
  },
  {
   "cell_type": "code",
   "execution_count": 108,
   "metadata": {},
   "outputs": [],
   "source": [
    "def dfs(node,introducedBy):\n",
    "    introduced[node.name]=introducedBy\n",
    "    if node.visited==True and node.done==False:\n",
    "        print_cycle(node.name,\"\")\n",
    "    else:\n",
    "        node.visited=True\n",
    "        for nodes in node.neighbour:\n",
    "            if nodes.done==False:\n",
    "                dfs(nodes,node.name)\n",
    "        node.done=True"
   ]
  },
  {
   "cell_type": "code",
   "execution_count": 109,
   "metadata": {},
   "outputs": [],
   "source": [
    "def print_cycle(vertex,cycle):\n",
    "    if vertex is not None and vertex not in cycle:\n",
    "        print_cycle(introduced[vertex],vertex+cycle)\n",
    "    else:\n",
    "        print(\"Cycle is in the path {}\".format(cycle))"
   ]
  },
  {
   "cell_type": "code",
   "execution_count": 110,
   "metadata": {},
   "outputs": [
    {
     "name": "stdout",
     "output_type": "stream",
     "text": [
      "Cycle is in the path EFD\n"
     ]
    }
   ],
   "source": [
    "dfs(node1,None)"
   ]
  },
  {
   "cell_type": "code",
   "execution_count": 111,
   "metadata": {},
   "outputs": [
    {
     "data": {
      "text/plain": [
       "{'A': None, 'B': 'A', 'C': 'B', 'D': 'F', 'E': 'D', 'F': 'E'}"
      ]
     },
     "execution_count": 111,
     "metadata": {},
     "output_type": "execute_result"
    }
   ],
   "source": [
    "introduced"
   ]
  },
  {
   "cell_type": "code",
   "execution_count": null,
   "metadata": {},
   "outputs": [],
   "source": []
  },
  {
   "cell_type": "code",
   "execution_count": null,
   "metadata": {},
   "outputs": [],
   "source": []
  }
 ],
 "metadata": {
  "kernelspec": {
   "display_name": "Python 3",
   "language": "python",
   "name": "python3"
  },
  "language_info": {
   "codemirror_mode": {
    "name": "ipython",
    "version": 3
   },
   "file_extension": ".py",
   "mimetype": "text/x-python",
   "name": "python",
   "nbconvert_exporter": "python",
   "pygments_lexer": "ipython3",
   "version": "3.7.3"
  }
 },
 "nbformat": 4,
 "nbformat_minor": 2
}
