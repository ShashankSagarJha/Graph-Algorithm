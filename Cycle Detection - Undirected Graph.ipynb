{
 "cells": [
  {
   "cell_type": "code",
   "execution_count": 33,
   "metadata": {},
   "outputs": [],
   "source": [
    "class Edge:\n",
    "    def __init__(self,name,start,end):\n",
    "        self.name=name\n",
    "        self.start=start\n",
    "        self.end=end"
   ]
  },
  {
   "cell_type": "code",
   "execution_count": 34,
   "metadata": {},
   "outputs": [],
   "source": [
    "class disjoint_set:\n",
    "    def __init__(self,n):\n",
    "        self.rank=[1]*n\n",
    "        self.parent=[i for i in range(n)]\n",
    "    \n",
    "    def find(self,x):\n",
    "        if self.parent[x]!=x:self.parent[x]=self.find(self.parent[x])\n",
    "        return self.parent[x]\n",
    "    \n",
    "    def union(self,x,y):\n",
    "        xpar=self.find(x)\n",
    "        ypar=self.find(y)\n",
    "        if xpar==ypar:return\n",
    "        \n",
    "        if self.rank[xpar]>self.rank[ypar]:\n",
    "            self.parent[ypar]=xpar\n",
    "        \n",
    "        elif self.rank[xpar]<self.rank[ypar]:\n",
    "            self.parent[xpar]=ypar\n",
    "            \n",
    "        else:\n",
    "            self.parent[ypar]=xpar\n",
    "            self.rank[xpar]+=1"
   ]
  },
  {
   "cell_type": "code",
   "execution_count": 55,
   "metadata": {},
   "outputs": [],
   "source": [
    "edge1=Edge(\"AB\",0,1)\n",
    "edge2=Edge(\"AF\",0,5)\n",
    "edge3=Edge(\"BC\",1,2)\n",
    "edge4=Edge(\"FE\",5,4)\n",
    "edge5=Edge(\"CD\",2,3)\n",
    "edge6=Edge(\"DE\",3,4)\n",
    "\n",
    "edge_list=[edge1,edge2,edge3,edge4,edge5,edge6]"
   ]
  },
  {
   "cell_type": "code",
   "execution_count": 56,
   "metadata": {},
   "outputs": [],
   "source": [
    "def find_cycle(edge_list,vertex):\n",
    "    dj_set=disjoint_set(vertex)\n",
    "    for i in edge_list:\n",
    "        if dj_set.find(i.start)==dj_set.find(i.end):\n",
    "            return \"Cycle Detected\"\n",
    "        else:\n",
    "            dj_set.union(i.start,i.end)\n",
    "    return \"No Cycle Detected\""
   ]
  },
  {
   "cell_type": "code",
   "execution_count": 57,
   "metadata": {
    "scrolled": true
   },
   "outputs": [
    {
     "data": {
      "text/plain": [
       "'Cycle Detected'"
      ]
     },
     "execution_count": 57,
     "metadata": {},
     "output_type": "execute_result"
    }
   ],
   "source": [
    "find_cycle(edge_list,6)"
   ]
  },
  {
   "cell_type": "code",
   "execution_count": null,
   "metadata": {},
   "outputs": [],
   "source": []
  }
 ],
 "metadata": {
  "kernelspec": {
   "display_name": "Python 3",
   "language": "python",
   "name": "python3"
  },
  "language_info": {
   "codemirror_mode": {
    "name": "ipython",
    "version": 3
   },
   "file_extension": ".py",
   "mimetype": "text/x-python",
   "name": "python",
   "nbconvert_exporter": "python",
   "pygments_lexer": "ipython3",
   "version": "3.7.3"
  }
 },
 "nbformat": 4,
 "nbformat_minor": 2
}
