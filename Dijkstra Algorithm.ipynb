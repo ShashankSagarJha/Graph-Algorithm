{
 "cells": [
  {
   "cell_type": "code",
   "execution_count": 15,
   "metadata": {},
   "outputs": [],
   "source": [
    "import sys;\n",
    "import heapq;"
   ]
  },
  {
   "cell_type": "code",
   "execution_count": 16,
   "metadata": {},
   "outputs": [],
   "source": [
    "class Edge(object):\n",
    "    def __init__(self,weight,start_vertex,end_vertex):\n",
    "        self.weight=weight\n",
    "        self.startvertex=start_vertex\n",
    "        self.endvertex=end_vertex"
   ]
  },
  {
   "cell_type": "code",
   "execution_count": 17,
   "metadata": {},
   "outputs": [],
   "source": [
    "class Node(object):\n",
    "    def __init__(self,name):\n",
    "        self.name=name\n",
    "        self.distance=sys.maxsize\n",
    "        self.predecessor=None\n",
    "        self.neighbour=[]\n",
    "\n",
    "    def __cmp__(self,othervertex):\n",
    "        return self.cmp(self.distance,othervertex.distance)\n",
    "    \n",
    "    def __lt__(self,other):\n",
    "        selfPriority = self.distance;\n",
    "        otherPriority = other.distance;\n",
    "        return selfPriority < otherPriority;\n",
    "    "
   ]
  },
  {
   "cell_type": "code",
   "execution_count": 23,
   "metadata": {},
   "outputs": [],
   "source": [
    "class Algorithm(object):\n",
    "    \n",
    "    def dijkstra(self,vertex_list,source):\n",
    "        q=[]\n",
    "        source.distance=0\n",
    "        heapq.heappush(q,source)\n",
    "        \n",
    "        while q:\n",
    "            actual_vertex=heapq.heappop(q)\n",
    "            \n",
    "            for edge in actual_vertex.neighbour:\n",
    "                u = edge.startvertex;\n",
    "                v = edge.endvertex\n",
    "                if u.distance+edge.weight<v.distance:\n",
    "                    v.predecessor=u\n",
    "                    v.distance=u.distance+edge.weight\n",
    "                    heapq.heappush(q,v)\n",
    "                    \n",
    "    def getShortestPathTo(self, targetVertex):\n",
    "        print(\"Shortest path to vertex is: \", targetVertex.distance);\n",
    "        \n",
    "        node = targetVertex;\n",
    "        \n",
    "        while node is not None:\n",
    "            print(\"%s \" % node.name);\n",
    "            node = node.predecessor;"
   ]
  },
  {
   "cell_type": "code",
   "execution_count": 24,
   "metadata": {},
   "outputs": [],
   "source": [
    "node1 = Node(\"A\");\n",
    "node2 = Node(\"B\");\n",
    "node3 = Node(\"C\");\n",
    "node4 = Node(\"D\");\n",
    "node5 = Node(\"E\");\n",
    "node6 = Node(\"F\");\n",
    "node7 = Node(\"G\");\n",
    "node8 = Node(\"H\");"
   ]
  },
  {
   "cell_type": "code",
   "execution_count": 25,
   "metadata": {},
   "outputs": [],
   "source": [
    "edge1 = Edge(5,node1,node2);\n",
    "edge2 = Edge(8,node1,node8);\n",
    "edge3 = Edge(9,node1,node5);\n",
    "edge4 = Edge(15,node2,node4);\n",
    "edge5 = Edge(12,node2,node3);\n",
    "edge6 = Edge(4,node2,node8);\n",
    "edge7 = Edge(7,node8,node3);\n",
    "edge8 = Edge(6,node8,node6);\n",
    "edge9 = Edge(5,node5,node8);\n",
    "edge10 = Edge(4,node5,node6);\n",
    "edge11 = Edge(20,node5,node7);\n",
    "edge12 = Edge(1,node6,node3);\n",
    "edge13 = Edge(13,node6,node7);\n",
    "edge14 = Edge(3,node3,node4);\n",
    "edge15 = Edge(11,node3,node7);\n",
    "edge16 = Edge(9,node4,node7);"
   ]
  },
  {
   "cell_type": "code",
   "execution_count": 26,
   "metadata": {},
   "outputs": [],
   "source": [
    "node1.neighbour.append(edge1);\n",
    "node1.neighbour.append(edge2);\n",
    "node1.neighbour.append(edge3);\n",
    "node2.neighbour.append(edge4);\n",
    "node2.neighbour.append(edge5);\n",
    "node2.neighbour.append(edge6);\n",
    "node8.neighbour.append(edge7);\n",
    "node8.neighbour.append(edge8);\n",
    "node5.neighbour.append(edge9);\n",
    "node5.neighbour.append(edge10);\n",
    "node5.neighbour.append(edge11);\n",
    "node6.neighbour.append(edge12);\n",
    "node6.neighbour.append(edge13);\n",
    "node3.neighbour.append(edge14);\n",
    "node3.neighbour.append(edge15);\n",
    "node4.neighbour.append(edge16);"
   ]
  },
  {
   "cell_type": "code",
   "execution_count": 28,
   "metadata": {},
   "outputs": [
    {
     "name": "stdout",
     "output_type": "stream",
     "text": [
      "Shortest path to vertex is:  25\n",
      "G \n",
      "C \n",
      "F \n",
      "E \n",
      "A \n"
     ]
    }
   ],
   "source": [
    "vertexList = (node1,node2,node3, node4, node5, node6, node7, node8);\n",
    "\n",
    "algorithm = Algorithm();\n",
    "algorithm.dijkstra(vertexList, node1);\n",
    "algorithm.getShortestPathTo(node7);"
   ]
  },
  {
   "cell_type": "code",
   "execution_count": null,
   "metadata": {},
   "outputs": [],
   "source": []
  }
 ],
 "metadata": {
  "kernelspec": {
   "display_name": "Python 3",
   "language": "python",
   "name": "python3"
  },
  "language_info": {
   "codemirror_mode": {
    "name": "ipython",
    "version": 3
   },
   "file_extension": ".py",
   "mimetype": "text/x-python",
   "name": "python",
   "nbconvert_exporter": "python",
   "pygments_lexer": "ipython3",
   "version": "3.7.3"
  }
 },
 "nbformat": 4,
 "nbformat_minor": 2
}
