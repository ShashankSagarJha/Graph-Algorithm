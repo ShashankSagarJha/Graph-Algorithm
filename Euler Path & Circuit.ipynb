{
 "cells": [
  {
   "cell_type": "code",
   "execution_count": 1,
   "metadata": {},
   "outputs": [],
   "source": [
    "class Node(object):\n",
    "    def __init__(self,name):\n",
    "        self.name=name\n",
    "        self.visited=False\n",
    "        self.neighbour=[]\n",
    "        self.outEdge=[]\n",
    "        self.inDegree=0\n",
    "        self.outDegree=0"
   ]
  },
  {
   "cell_type": "code",
   "execution_count": 2,
   "metadata": {},
   "outputs": [],
   "source": [
    "class Edge(object):\n",
    "    def __init__(self,start_vertex,end_vertex):\n",
    "        self.start_vertex=start_vertex\n",
    "        self.end_vertex=end_vertex\n",
    "        self.visited=False"
   ]
  },
  {
   "cell_type": "code",
   "execution_count": 3,
   "metadata": {},
   "outputs": [],
   "source": [
    "node1 = Node(\"A\");\n",
    "node2 = Node(\"B\");\n",
    "node3 = Node(\"C\");\n",
    "node4 = Node(\"D\");\n",
    "node5 = Node(\"E\");\n",
    "node6 = Node(\"F\");"
   ]
  },
  {
   "cell_type": "code",
   "execution_count": 4,
   "metadata": {},
   "outputs": [],
   "source": [
    "edge1 = Edge(node1,node2);\n",
    "edge2 = Edge(node1,node3);\n",
    "edge3 = Edge(node3,node1);\n",
    "edge4 = Edge(node2,node4);\n",
    "edge5 = Edge(node2,node2);\n",
    "edge6 = Edge(node2,node4);\n",
    "edge7 = Edge(node3,node2);\n",
    "edge8 = Edge(node4,node3);\n",
    "edge9 = Edge(node4,node6);\n",
    "edge10 = Edge(node5,node6);\n",
    "edge11 = Edge(node3,node5);\n",
    "edge12 = Edge(node6,node3);"
   ]
  },
  {
   "cell_type": "code",
   "execution_count": 5,
   "metadata": {},
   "outputs": [],
   "source": [
    "edge_list=[edge1,edge2,edge3,edge4,edge5,edge6,edge7,edge8,edge9,edge10,edge11,edge12]\n",
    "vertexList = [node1,node2,node3, node4, node5, node6]"
   ]
  },
  {
   "cell_type": "code",
   "execution_count": 6,
   "metadata": {},
   "outputs": [],
   "source": [
    "for i in edge_list:\n",
    "    i.start_vertex.neighbour.append(i.end_vertex)\n",
    "    i.start_vertex.outEdge.append(i)\n",
    "    i.start_vertex.outDegree+=1\n",
    "    i.end_vertex.inDegree+=1"
   ]
  },
  {
   "cell_type": "code",
   "execution_count": 7,
   "metadata": {},
   "outputs": [
    {
     "name": "stdout",
     "output_type": "stream",
     "text": [
      "A->B,C,\n",
      "B->D,B,D,\n",
      "C->A,B,E,\n",
      "D->C,F,\n",
      "E->F,\n",
      "F->C,\n"
     ]
    }
   ],
   "source": [
    "for i in vertexList:\n",
    "    print(i.name,end=\"->\")\n",
    "    for j in i.neighbour:\n",
    "        print(j.name,end=\",\")\n",
    "    print(\"\")"
   ]
  },
  {
   "cell_type": "code",
   "execution_count": 8,
   "metadata": {},
   "outputs": [
    {
     "name": "stdout",
     "output_type": "stream",
     "text": [
      "Vertex A out degree is 2 and in degree is 1\n",
      "Vertex B out degree is 3 and in degree is 3\n",
      "Vertex C out degree is 3 and in degree is 3\n",
      "Vertex D out degree is 2 and in degree is 2\n",
      "Vertex E out degree is 1 and in degree is 1\n",
      "Vertex F out degree is 1 and in degree is 2\n"
     ]
    }
   ],
   "source": [
    "for i in vertexList:\n",
    "    print(\"Vertex {} out degree is {} and in degree is {}\".format(i.name,i.outDegree,i.inDegree))"
   ]
  },
  {
   "cell_type": "code",
   "execution_count": 9,
   "metadata": {},
   "outputs": [],
   "source": [
    "end_node=None\n",
    "start_node=None\n",
    "def isEulerPath(vertex_list):\n",
    "    global start_node,end_node\n",
    "    for i in vertex_list:\n",
    "        if i.inDegree - i.outDegree==1:end_node=i\n",
    "        elif i.outDegree - i.inDegree==1:start_node=i\n",
    "        elif abs(i.outDegree - i.inDegree)>1:return False\n",
    "    return True    "
   ]
  },
  {
   "cell_type": "code",
   "execution_count": 10,
   "metadata": {},
   "outputs": [],
   "source": [
    "def dfs(node,final_list):\n",
    "    while node.outDegree!=0:\n",
    "        i=node.outEdge[node.outDegree-1]\n",
    "        node.outDegree-=1\n",
    "        dfs(i.end_vertex,final_list)\n",
    "    final_list.append(node.name)"
   ]
  },
  {
   "cell_type": "code",
   "execution_count": 11,
   "metadata": {},
   "outputs": [],
   "source": [
    "def findPath(vertexList):\n",
    "    if not isEulerPath(vertexList):return False\n",
    "    vertices=[]\n",
    "    dfs(start_node,vertices)\n",
    "    print(\"Please take the path: \",end=\"\")\n",
    "    while len(vertices)>0:\n",
    "        if len(vertices)==1:print(vertices[-1],end=\"\")\n",
    "        else:print(vertices[-1],end=\"->\")\n",
    "        vertices.pop()"
   ]
  },
  {
   "cell_type": "code",
   "execution_count": 12,
   "metadata": {},
   "outputs": [
    {
     "name": "stdout",
     "output_type": "stream",
     "text": [
      "Please take the path: A->C->E->F->C->B->D->C->A->B->B->D->F"
     ]
    }
   ],
   "source": [
    "findPath(vertexList)"
   ]
  },
  {
   "cell_type": "code",
   "execution_count": null,
   "metadata": {},
   "outputs": [],
   "source": []
  }
 ],
 "metadata": {
  "kernelspec": {
   "display_name": "Python 3",
   "language": "python",
   "name": "python3"
  },
  "language_info": {
   "codemirror_mode": {
    "name": "ipython",
    "version": 3
   },
   "file_extension": ".py",
   "mimetype": "text/x-python",
   "name": "python",
   "nbconvert_exporter": "python",
   "pygments_lexer": "ipython3",
   "version": "3.7.3"
  }
 },
 "nbformat": 4,
 "nbformat_minor": 2
}
