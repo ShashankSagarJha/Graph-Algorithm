{
 "cells": [
  {
   "cell_type": "code",
   "execution_count": 113,
   "metadata": {},
   "outputs": [],
   "source": [
    "class disjoint_set:\n",
    "    def __init__(self,n):\n",
    "        self.rank=[1]*n\n",
    "        self.parent=[i for i in range(n)]\n",
    "    \n",
    "    def find(self,x):\n",
    "        if self.parent[x]!=x:self.parent[x]=self.find(self.parent[x])\n",
    "        return self.parent[x]\n",
    "    \n",
    "    def union(self,x,y):\n",
    "        xpar=self.find(x)\n",
    "        ypar=self.find(y)\n",
    "        if xpar==ypar:return\n",
    "        \n",
    "        if self.rank[xpar]>self.rank[ypar]:\n",
    "            self.parent[ypar]=xpar\n",
    "        \n",
    "        elif self.rank[xpar]<self.rank[ypar]:\n",
    "            self.parent[xpar]=ypar\n",
    "            \n",
    "        else:\n",
    "            self.parent[ypar]=xpar\n",
    "            self.rank[xpar]+=1"
   ]
  },
  {
   "cell_type": "code",
   "execution_count": 114,
   "metadata": {},
   "outputs": [],
   "source": [
    "class Graph:\n",
    " \n",
    "    def __init__(self, vertices):\n",
    "        self.V = vertices  # No. of vertices\n",
    "        self.graph = []  # default dictionary\n",
    "        # to store graph\n",
    " \n",
    "    # function to add an edge to graph\n",
    "    def addEdge(self, u, v, w):\n",
    "        self.graph.append([u, v, w])\n",
    "        \n",
    "    def kruskalMST(self):\n",
    "        self.graph = sorted(self.graph, key=lambda item: item[2])\n",
    "        d=disjoint_set(self.V)\n",
    "        self.summ=0\n",
    "        self.egde_set=[]\n",
    "        for i in range(len(self.graph)):\n",
    "            if d.find(self.graph[i][0])!=d.find(self.graph[i][1]):\n",
    "                d.union(self.graph[i][0],self.graph[i][1])\n",
    "                self.summ+=self.graph[i][2]\n",
    "                print(\"adding edge (\",self.graph[i][0],\"-\",self.graph[i][1],\") having weight\",self.graph[i][2])\n",
    "        return self.summ "
   ]
  },
  {
   "cell_type": "code",
   "execution_count": 115,
   "metadata": {},
   "outputs": [],
   "source": [
    "g = Graph(4)\n",
    "g.addEdge(0, 1, 10)\n",
    "g.addEdge(0, 2, 6)\n",
    "g.addEdge(0, 3, 5)\n",
    "g.addEdge(1, 3, 15)\n",
    "g.addEdge(2, 3, 4)"
   ]
  },
  {
   "cell_type": "code",
   "execution_count": 116,
   "metadata": {},
   "outputs": [
    {
     "data": {
      "text/plain": [
       "[[0, 1, 10], [0, 2, 6], [0, 3, 5], [1, 3, 15], [2, 3, 4]]"
      ]
     },
     "execution_count": 116,
     "metadata": {},
     "output_type": "execute_result"
    }
   ],
   "source": [
    "g.graph"
   ]
  },
  {
   "cell_type": "code",
   "execution_count": 117,
   "metadata": {},
   "outputs": [
    {
     "name": "stdout",
     "output_type": "stream",
     "text": [
      "adding edge ( 2 - 3 ) having weight 4\n",
      "adding edge ( 0 - 3 ) having weight 5\n",
      "adding edge ( 0 - 1 ) having weight 10\n"
     ]
    },
    {
     "data": {
      "text/plain": [
       "19"
      ]
     },
     "execution_count": 117,
     "metadata": {},
     "output_type": "execute_result"
    }
   ],
   "source": [
    "g.kruskalMST()"
   ]
  },
  {
   "cell_type": "code",
   "execution_count": 118,
   "metadata": {},
   "outputs": [
    {
     "data": {
      "text/plain": [
       "[[2, 3, 4], [0, 3, 5], [0, 2, 6], [0, 1, 10], [1, 3, 15]]"
      ]
     },
     "execution_count": 118,
     "metadata": {},
     "output_type": "execute_result"
    }
   ],
   "source": [
    "g.graph"
   ]
  },
  {
   "cell_type": "code",
   "execution_count": 119,
   "metadata": {},
   "outputs": [],
   "source": [
    "a=[[2,3],[6,7]]"
   ]
  },
  {
   "cell_type": "code",
   "execution_count": 120,
   "metadata": {},
   "outputs": [],
   "source": [
    "g2=Graph(7)"
   ]
  },
  {
   "cell_type": "code",
   "execution_count": 121,
   "metadata": {},
   "outputs": [],
   "source": [
    "g2.addEdge(0,1,2)\n",
    "g2.addEdge(0,2,3)\n",
    "g2.addEdge(0,6,3)\n",
    "g2.addEdge(1,2,5)\n",
    "g2.addEdge(1,3,6)\n",
    "g2.addEdge(1,2,10)\n",
    "g2.addEdge(2,6,4)\n",
    "g2.addEdge(3,6,1)\n",
    "g2.addEdge(3,4,2)\n",
    "g2.addEdge(4,5,5)\n",
    "g2.addEdge(5,6,5)"
   ]
  },
  {
   "cell_type": "code",
   "execution_count": 122,
   "metadata": {},
   "outputs": [
    {
     "name": "stdout",
     "output_type": "stream",
     "text": [
      "adding edge ( 3 - 6 ) having weight 1\n",
      "adding edge ( 0 - 1 ) having weight 2\n",
      "adding edge ( 3 - 4 ) having weight 2\n",
      "adding edge ( 0 - 2 ) having weight 3\n",
      "adding edge ( 0 - 6 ) having weight 3\n",
      "adding edge ( 4 - 5 ) having weight 5\n"
     ]
    },
    {
     "data": {
      "text/plain": [
       "16"
      ]
     },
     "execution_count": 122,
     "metadata": {},
     "output_type": "execute_result"
    }
   ],
   "source": [
    "g2.kruskalMST()"
   ]
  },
  {
   "cell_type": "code",
   "execution_count": 123,
   "metadata": {},
   "outputs": [
    {
     "data": {
      "text/plain": [
       "[[3, 6, 1],\n",
       " [0, 1, 2],\n",
       " [3, 4, 2],\n",
       " [0, 2, 3],\n",
       " [0, 6, 3],\n",
       " [2, 6, 4],\n",
       " [1, 2, 5],\n",
       " [4, 5, 5],\n",
       " [5, 6, 5],\n",
       " [1, 3, 6],\n",
       " [1, 2, 10]]"
      ]
     },
     "execution_count": 123,
     "metadata": {},
     "output_type": "execute_result"
    }
   ],
   "source": [
    "g2.graph"
   ]
  },
  {
   "cell_type": "code",
   "execution_count": 124,
   "metadata": {},
   "outputs": [],
   "source": [
    "g3=Graph(5)"
   ]
  },
  {
   "cell_type": "code",
   "execution_count": 125,
   "metadata": {},
   "outputs": [],
   "source": [
    "g3.addEdge(0,1,1)\n",
    "g3.addEdge(0,2,1)\n",
    "g3.addEdge(1,2,1)\n",
    "g3.addEdge(2,3,8)\n",
    "g3.addEdge(3,4,1)"
   ]
  },
  {
   "cell_type": "code",
   "execution_count": 126,
   "metadata": {},
   "outputs": [
    {
     "name": "stdout",
     "output_type": "stream",
     "text": [
      "adding edge ( 0 - 1 ) having weight 1\n",
      "adding edge ( 0 - 2 ) having weight 1\n",
      "adding edge ( 3 - 4 ) having weight 1\n",
      "adding edge ( 2 - 3 ) having weight 8\n"
     ]
    },
    {
     "data": {
      "text/plain": [
       "11"
      ]
     },
     "execution_count": 126,
     "metadata": {},
     "output_type": "execute_result"
    }
   ],
   "source": [
    "g3.kruskalMST()"
   ]
  },
  {
   "cell_type": "code",
   "execution_count": null,
   "metadata": {},
   "outputs": [],
   "source": []
  }
 ],
 "metadata": {
  "kernelspec": {
   "display_name": "Python 3",
   "language": "python",
   "name": "python3"
  },
  "language_info": {
   "codemirror_mode": {
    "name": "ipython",
    "version": 3
   },
   "file_extension": ".py",
   "mimetype": "text/x-python",
   "name": "python",
   "nbconvert_exporter": "python",
   "pygments_lexer": "ipython3",
   "version": "3.7.3"
  }
 },
 "nbformat": 4,
 "nbformat_minor": 2
}
