{
 "cells": [
  {
   "cell_type": "code",
   "execution_count": 1,
   "metadata": {},
   "outputs": [],
   "source": [
    "import heapq;\n",
    "\n",
    "class Vertex(object):\n",
    "\n",
    "\tdef __init__(self, name):\n",
    "\t\tself.name = name;\n",
    "\t\tself.visited = False;\n",
    "\t\tself.predecessor = None;\n",
    "\t\tself.adjacenciesList = [];\n",
    "\t\t\n",
    "\tdef __str__(self):\n",
    "\t\treturn self.name;\n",
    "\t\t\n",
    "class Edge(object):\n",
    "\n",
    "\tdef __init__(self, weight, startVertex, targetVertex):\n",
    "\t\tself.weight = weight;\n",
    "\t\tself.startVertex = startVertex;\n",
    "\t\tself.targetVertex = targetVertex;\n",
    "\t\t\n",
    "\tdef __cmp__(self, otherEdge):\n",
    "\t\treturn self.cmp(self.weight, otherEdge.weight);\n",
    "\t\t\n",
    "\tdef __lt__(self, other):\n",
    "\t\tselfPriority = self.weight;  # !!!\n",
    "\t\totherPriority = other.weight;\n",
    "\t\treturn selfPriority < otherPriority;"
   ]
  },
  {
   "cell_type": "code",
   "execution_count": 2,
   "metadata": {},
   "outputs": [],
   "source": [
    "class PrimsJarnik(object):\n",
    "\n",
    "\tdef __init__(self, unvisitedList):\n",
    "\t\tself.unvisitedList = unvisitedList;\n",
    "\t\tself.spanningTree = [];\n",
    "\t\tself.edgeHeap = [];\n",
    "\t\tself.fullCost = 0;\n",
    "\t\t\n",
    "\tdef calculateSpanningTree(self, vertex):\n",
    "\t\n",
    "\t\tself.unvisitedList.remove(vertex);\n",
    "\t\t\n",
    "\t\twhile self.unvisitedList:\n",
    "\t\t\n",
    "\t\t\tfor edge in vertex.adjacenciesList:\n",
    "\t\t\t\tif edge.targetVertex in self.unvisitedList:\n",
    "\t\t\t\t\theapq.heappush(self.edgeHeap, edge);\n",
    "\t\t\t\t\t\n",
    "\t\t\tminEdge = heapq.heappop(self.edgeHeap);\n",
    "\t\t\t\n",
    "\t\t\tself.spanningTree.append(minEdge);\n",
    "\t\t\tprint(\"Edge added to spanning tree: %s - %s\" % (minEdge.startVertex.name, minEdge.targetVertex.name));\n",
    "\t\t\tself.fullCost = self.fullCost + minEdge.weight;\n",
    "\t\t\t\n",
    "\t\t\tvertex = minEdge.targetVertex;   # targetVErtex !!\n",
    "\t\t\tself.unvisitedList.remove(vertex);\n",
    "\n",
    "\tdef getSpanningTree(self):\n",
    "\t\treturn self.spanningTree;"
   ]
  },
  {
   "cell_type": "code",
   "execution_count": 3,
   "metadata": {},
   "outputs": [
    {
     "name": "stdout",
     "output_type": "stream",
     "text": [
      "Edge added to spanning tree: B - C\n",
      "Edge added to spanning tree: B - A\n"
     ]
    }
   ],
   "source": [
    "\n",
    "node1 = Vertex(\"A\");\n",
    "node2 = Vertex(\"B\");\n",
    "node3 = Vertex(\"C\");\n",
    "\n",
    "edge1 = Edge(100,node1,node2);\n",
    "edge2 = Edge(100,node2,node1);\n",
    "edge3 = Edge(1000,node1,node3);\n",
    "edge4 = Edge(1000,node3,node1);\n",
    "edge5 = Edge(0.01,node3,node2);\n",
    "edge6 = Edge(0.01,node2,node3);\n",
    "\n",
    "node1.adjacenciesList.append(edge1);\n",
    "node1.adjacenciesList.append(edge3);\n",
    "node2.adjacenciesList.append(edge2);\n",
    "node2.adjacenciesList.append(edge6);\n",
    "node3.adjacenciesList.append(edge4);\n",
    "node3.adjacenciesList.append(edge5);\n",
    "\n",
    "unvisitedList = [];\n",
    "unvisitedList.append(node1);\n",
    "unvisitedList.append(node2);\n",
    "unvisitedList.append(node3);\n",
    "\n",
    "algorithm = PrimsJarnik(unvisitedList);\n",
    "algorithm.calculateSpanningTree(node2);"
   ]
  },
  {
   "cell_type": "code",
   "execution_count": null,
   "metadata": {},
   "outputs": [],
   "source": [
    " "
   ]
  }
 ],
 "metadata": {
  "kernelspec": {
   "display_name": "Python 3",
   "language": "python",
   "name": "python3"
  },
  "language_info": {
   "codemirror_mode": {
    "name": "ipython",
    "version": 3
   },
   "file_extension": ".py",
   "mimetype": "text/x-python",
   "name": "python",
   "nbconvert_exporter": "python",
   "pygments_lexer": "ipython3",
   "version": "3.7.3"
  }
 },
 "nbformat": 4,
 "nbformat_minor": 2
}
