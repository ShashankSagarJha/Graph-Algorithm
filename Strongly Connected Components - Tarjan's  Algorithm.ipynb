{
 "cells": [
  {
   "cell_type": "code",
   "execution_count": 1,
   "metadata": {},
   "outputs": [],
   "source": [
    "class Node(object):\n",
    "    def __init__(self,name):\n",
    "        self.name=name\n",
    "        self.visited=False\n",
    "        self.neighbour=[]\n",
    "        self.id=0\n",
    "        self.onStack=False\n",
    "        self.low=0"
   ]
  },
  {
   "cell_type": "code",
   "execution_count": 2,
   "metadata": {},
   "outputs": [],
   "source": [
    "class Edge(object):\n",
    "    def __init__(self,start_vertex,end_vertex):\n",
    "        self.start_vertex=start_vertex\n",
    "        self.end_vertex=end_vertex"
   ]
  },
  {
   "cell_type": "code",
   "execution_count": 3,
   "metadata": {},
   "outputs": [],
   "source": [
    "node1 = Node(\"A\");\n",
    "node2 = Node(\"B\");\n",
    "node3 = Node(\"C\");\n",
    "node4 = Node(\"D\");\n",
    "node5 = Node(\"E\");\n",
    "node6 = Node(\"F\");\n",
    "node7 = Node(\"G\");\n",
    "node8 = Node(\"H\");\n",
    "node9 = Node(\"I\");\n",
    "node10 = Node(\"J\");\n",
    "node11 = Node(\"K\");"
   ]
  },
  {
   "cell_type": "code",
   "execution_count": 4,
   "metadata": {},
   "outputs": [],
   "source": [
    "edge1 = Edge(node1,node2);\n",
    "edge2 = Edge(node2,node3);\n",
    "edge3 = Edge(node3,node1);\n",
    "edge4 = Edge(node2,node4);\n",
    "edge5 = Edge(node4,node5);\n",
    "edge6 = Edge(node5,node6);\n",
    "edge7 = Edge(node6,node4);\n",
    "edge8 = Edge(node7,node6);\n",
    "edge9 = Edge(node7,node8);\n",
    "edge10 = Edge(node8,node9);\n",
    "edge11 = Edge(node9,node10);\n",
    "edge12 = Edge(node10,node7);\n",
    "edge13 = Edge(node10,node11);"
   ]
  },
  {
   "cell_type": "code",
   "execution_count": 5,
   "metadata": {},
   "outputs": [],
   "source": [
    "edge_list=[edge1,edge2,edge3,edge4,edge5,edge6,edge7,edge8,edge9,edge10,edge11,edge12,edge13]"
   ]
  },
  {
   "cell_type": "code",
   "execution_count": 6,
   "metadata": {},
   "outputs": [],
   "source": [
    "vertexList = [node1,node2,node3, node4, node5, node6, node7, node8, node9, node10, node11]"
   ]
  },
  {
   "cell_type": "code",
   "execution_count": 7,
   "metadata": {},
   "outputs": [],
   "source": [
    "for i in edge_list:\n",
    "    i.start_vertex.neighbour.append(i.end_vertex)"
   ]
  },
  {
   "cell_type": "code",
   "execution_count": 8,
   "metadata": {},
   "outputs": [
    {
     "name": "stdout",
     "output_type": "stream",
     "text": [
      "A->B,\n",
      "B->C,D,\n",
      "C->A,\n",
      "D->E,\n",
      "E->F,\n",
      "F->D,\n",
      "G->F,H,\n",
      "H->I,\n",
      "I->J,\n",
      "J->G,K,\n",
      "K->\n"
     ]
    }
   ],
   "source": [
    "for i in vertexList:\n",
    "    print(i.name,end=\"->\")\n",
    "    for j in i.neighbour:\n",
    "        print(j.name,end=\",\")\n",
    "    print(\"\")"
   ]
  },
  {
   "cell_type": "code",
   "execution_count": 9,
   "metadata": {},
   "outputs": [],
   "source": [
    "def modified_dfs(node):\n",
    "    global ids,scc_count\n",
    "    st.append(node)\n",
    "    node.visited=True\n",
    "    node.onStack=True\n",
    "    node.id=ids\n",
    "    node.low=ids\n",
    "    ids+=1\n",
    "    for i in node.neighbour:\n",
    "        if i.visited==False:\n",
    "            modified_dfs(i)\n",
    "        if i.onStack:\n",
    "            node.low=min(i.low,node.low)\n",
    "        \n",
    "    if node.id==node.low:\n",
    "        scc_count+=1\n",
    "        scc=\"\"\n",
    "        while len(st)>0 and st[-1].low==node.low:\n",
    "            scc=st[-1].name+scc\n",
    "            st[-1].onStack=False\n",
    "            st.pop()  \n",
    "        print(\"SCC Found -> {}\".format(scc))\n",
    "        "
   ]
  },
  {
   "cell_type": "code",
   "execution_count": 10,
   "metadata": {},
   "outputs": [
    {
     "name": "stdout",
     "output_type": "stream",
     "text": [
      "SCC Found -> DEF\n",
      "SCC Found -> ABC\n",
      "SCC Found -> K\n",
      "SCC Found -> GHIJ\n",
      "Important!!! There are total 4 SCC in the graph.\n"
     ]
    }
   ],
   "source": [
    "st=[]\n",
    "ids=0\n",
    "scc_count=0\n",
    "for i in vertexList:\n",
    "    if i.visited==False:\n",
    "        modified_dfs(i)  \n",
    "print(\"Important!!! There are total {} SCC in the graph.\".format(scc_count))"
   ]
  },
  {
   "cell_type": "code",
   "execution_count": 11,
   "metadata": {},
   "outputs": [],
   "source": [
    "for i in st:\n",
    "    print(i.name,i.low)"
   ]
  },
  {
   "cell_type": "markdown",
   "metadata": {},
   "source": [
    "## Example 2"
   ]
  },
  {
   "cell_type": "code",
   "execution_count": 12,
   "metadata": {},
   "outputs": [],
   "source": [
    "node21 = Node(\"A\");\n",
    "node22 = Node(\"B\");\n",
    "node23 = Node(\"C\");\n",
    "node24 = Node(\"D\");\n",
    "node25 = Node(\"E\");\n",
    "node26 = Node(\"F\");\n",
    "node27 = Node(\"G\");\n",
    "node28 = Node(\"H\");"
   ]
  },
  {
   "cell_type": "code",
   "execution_count": 13,
   "metadata": {},
   "outputs": [],
   "source": [
    "edge21 = Edge(node21,node22);\n",
    "edge22 = Edge(node22,node21);\n",
    "edge23 = Edge(node21,node23);\n",
    "edge24 = Edge(node22,node24);\n",
    "edge25 = Edge(node23,node24);\n",
    "edge26 = Edge(node24,node26);\n",
    "edge27 = Edge(node24,node25);\n",
    "edge28 = Edge(node25,node23);\n",
    "edge29 = Edge(node25,node26);\n",
    "edge30 = Edge(node25,node27);\n",
    "edge31 = Edge(node26,node28);\n",
    "edge32 = Edge(node27,node26);\n",
    "edge33 = Edge(node28,node27);"
   ]
  },
  {
   "cell_type": "code",
   "execution_count": 14,
   "metadata": {},
   "outputs": [],
   "source": [
    "edge_list_new=[edge21,edge22,edge23,edge24,edge25,edge26,edge27,edge28,edge29,edge30,edge31,edge32,edge33]"
   ]
  },
  {
   "cell_type": "code",
   "execution_count": 15,
   "metadata": {},
   "outputs": [],
   "source": [
    "vertexList_new = [node21,node22,node23, node24, node25, node26, node27, node28]"
   ]
  },
  {
   "cell_type": "code",
   "execution_count": 16,
   "metadata": {},
   "outputs": [],
   "source": [
    "for i in edge_list_new:\n",
    "    i.start_vertex.neighbour.append(i.end_vertex)"
   ]
  },
  {
   "cell_type": "code",
   "execution_count": 17,
   "metadata": {},
   "outputs": [
    {
     "name": "stdout",
     "output_type": "stream",
     "text": [
      "A->B,C,\n",
      "B->A,D,\n",
      "C->D,\n",
      "D->F,E,\n",
      "E->C,F,G,\n",
      "F->H,\n",
      "G->F,\n",
      "H->G,\n"
     ]
    }
   ],
   "source": [
    "for i in vertexList_new:\n",
    "    print(i.name,end=\"->\")\n",
    "    for j in i.neighbour:\n",
    "        print(j.name,end=\",\")\n",
    "    print(\"\")\n",
    "    "
   ]
  },
  {
   "cell_type": "code",
   "execution_count": 18,
   "metadata": {},
   "outputs": [
    {
     "name": "stdout",
     "output_type": "stream",
     "text": [
      "SCC Found -> FHG\n",
      "SCC Found -> DEC\n",
      "SCC Found -> AB\n",
      "Important!!! There are total 3 SCC in the graph.\n"
     ]
    }
   ],
   "source": [
    "st=[]\n",
    "ids=0\n",
    "scc_count=0\n",
    "for i in vertexList_new:\n",
    "    if i.visited==False:\n",
    "        modified_dfs(i)  \n",
    "print(\"Important!!! There are total {} SCC in the graph.\".format(scc_count))"
   ]
  },
  {
   "cell_type": "code",
   "execution_count": null,
   "metadata": {},
   "outputs": [],
   "source": []
  }
 ],
 "metadata": {
  "kernelspec": {
   "display_name": "Python 3",
   "language": "python",
   "name": "python3"
  },
  "language_info": {
   "codemirror_mode": {
    "name": "ipython",
    "version": 3
   },
   "file_extension": ".py",
   "mimetype": "text/x-python",
   "name": "python",
   "nbconvert_exporter": "python",
   "pygments_lexer": "ipython3",
   "version": "3.7.3"
  }
 },
 "nbformat": 4,
 "nbformat_minor": 2
}
