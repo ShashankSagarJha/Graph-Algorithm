{
 "cells": [
  {
   "cell_type": "code",
   "execution_count": 1,
   "metadata": {},
   "outputs": [],
   "source": [
    "class Node(object):\n",
    "    def __init__(self,name):\n",
    "        self.name=name\n",
    "        self.visited=False\n",
    "        self.neighbour=[]"
   ]
  },
  {
   "cell_type": "code",
   "execution_count": 2,
   "metadata": {},
   "outputs": [],
   "source": [
    "class Edge(object):\n",
    "    def __init__(self,start_vertex,end_vertex):\n",
    "        self.start_vertex=start_vertex\n",
    "        self.end_vertex=end_vertex"
   ]
  },
  {
   "cell_type": "code",
   "execution_count": 3,
   "metadata": {},
   "outputs": [],
   "source": [
    "node1 = Node(\"A\");\n",
    "node2 = Node(\"B\");\n",
    "node3 = Node(\"C\");\n",
    "node4 = Node(\"D\");\n",
    "node5 = Node(\"E\");\n",
    "node6 = Node(\"F\");\n",
    "node7 = Node(\"G\");\n",
    "node8 = Node(\"H\");\n",
    "node9 = Node(\"I\");\n",
    "node10 = Node(\"J\");\n",
    "node11 = Node(\"K\");"
   ]
  },
  {
   "cell_type": "code",
   "execution_count": 4,
   "metadata": {},
   "outputs": [],
   "source": [
    "edge1 = Edge(node1,node2);\n",
    "edge2 = Edge(node2,node3);\n",
    "edge3 = Edge(node3,node1);\n",
    "edge4 = Edge(node2,node4);\n",
    "edge5 = Edge(node4,node5);\n",
    "edge6 = Edge(node5,node6);\n",
    "edge7 = Edge(node6,node4);\n",
    "edge8 = Edge(node7,node6);\n",
    "edge9 = Edge(node7,node8);\n",
    "edge10 = Edge(node8,node9);\n",
    "edge11 = Edge(node9,node10);\n",
    "edge12 = Edge(node10,node7);\n",
    "edge13 = Edge(node10,node11);"
   ]
  },
  {
   "cell_type": "code",
   "execution_count": 5,
   "metadata": {},
   "outputs": [],
   "source": [
    "node1.neighbour.append(node2)\n",
    "node2.neighbour.append(node3)\n",
    "node2.neighbour.append(node4)\n",
    "node3.neighbour.append(node1)\n",
    "\n",
    "node4.neighbour.append(node5)\n",
    "node5.neighbour.append(node6)\n",
    "node6.neighbour.append(node4)\n",
    "\n",
    "node7.neighbour.append(node6)\n",
    "node7.neighbour.append(node8)\n",
    "\n",
    "node8.neighbour.append(node9)\n",
    "node9.neighbour.append(node10)\n",
    "\n",
    "node10.neighbour.append(node7)\n",
    "node10.neighbour.append(node11)"
   ]
  },
  {
   "cell_type": "code",
   "execution_count": 6,
   "metadata": {},
   "outputs": [],
   "source": [
    "vertexList = [node1,node2,node3, node4, node5, node6, node7, node8, node9, node10, node11]"
   ]
  },
  {
   "cell_type": "code",
   "execution_count": 7,
   "metadata": {},
   "outputs": [
    {
     "name": "stdout",
     "output_type": "stream",
     "text": [
      "A->B,\n",
      "B->C,D,\n",
      "C->A,\n",
      "D->E,\n",
      "E->F,\n",
      "F->D,\n",
      "G->F,H,\n",
      "H->I,\n",
      "I->J,\n",
      "J->G,K,\n",
      "K->\n"
     ]
    }
   ],
   "source": [
    "for i in vertexList:\n",
    "    print(i.name,end=\"->\")\n",
    "    for j in i.neighbour:\n",
    "        print(j.name,end=\",\")\n",
    "    print(\"\")"
   ]
  },
  {
   "cell_type": "code",
   "execution_count": 8,
   "metadata": {},
   "outputs": [],
   "source": [
    "## 1st pass kosaraju Algorithm"
   ]
  },
  {
   "cell_type": "code",
   "execution_count": 9,
   "metadata": {},
   "outputs": [],
   "source": [
    "def dfs(node):\n",
    "    if node.visited==True:return\n",
    "    node.visited=True\n",
    "    for i in node.neighbour:\n",
    "        if i.visited==False:\n",
    "            dfs(i)\n",
    "    st.append(node)"
   ]
  },
  {
   "cell_type": "code",
   "execution_count": 10,
   "metadata": {},
   "outputs": [],
   "source": [
    "st=[]\n",
    "for i in vertexList:\n",
    "    if i.visited==False:\n",
    "        dfs(i)"
   ]
  },
  {
   "cell_type": "code",
   "execution_count": 11,
   "metadata": {},
   "outputs": [
    {
     "name": "stdout",
     "output_type": "stream",
     "text": [
      "C F E D B A K J I H G "
     ]
    }
   ],
   "source": [
    "for i in st:\n",
    "    print(i.name,end=\" \")"
   ]
  },
  {
   "cell_type": "markdown",
   "metadata": {},
   "source": [
    "### Reversing Graph below"
   ]
  },
  {
   "cell_type": "code",
   "execution_count": 12,
   "metadata": {},
   "outputs": [],
   "source": [
    "for i in vertexList:\n",
    "    i.visited=False\n",
    "    i.neighbour=[]"
   ]
  },
  {
   "cell_type": "code",
   "execution_count": 13,
   "metadata": {},
   "outputs": [],
   "source": [
    "edge_list=[edge1,edge2,edge3,edge4,edge5,edge6,edge7,edge8,edge9,edge10,edge11,edge12,edge13]"
   ]
  },
  {
   "cell_type": "code",
   "execution_count": 14,
   "metadata": {},
   "outputs": [],
   "source": [
    "for i in edge_list:\n",
    "    i.end_vertex.neighbour.append(i.start_vertex)"
   ]
  },
  {
   "cell_type": "code",
   "execution_count": 15,
   "metadata": {},
   "outputs": [
    {
     "name": "stdout",
     "output_type": "stream",
     "text": [
      "A->C,\n",
      "B->A,\n",
      "C->B,\n",
      "D->B,F,\n",
      "E->D,\n",
      "F->E,G,\n",
      "G->J,\n",
      "H->G,\n",
      "I->H,\n",
      "J->I,\n",
      "K->J,\n"
     ]
    }
   ],
   "source": [
    "for i in vertexList:\n",
    "    print(i.name,end=\"->\")\n",
    "    for j in i.neighbour:\n",
    "        print(j.name,end=\",\")\n",
    "    print(\"\")"
   ]
  },
  {
   "cell_type": "code",
   "execution_count": 16,
   "metadata": {},
   "outputs": [],
   "source": [
    "## Final Pass"
   ]
  },
  {
   "cell_type": "code",
   "execution_count": 17,
   "metadata": {},
   "outputs": [],
   "source": [
    "def dfs_pass(node):\n",
    "    if node.visited==True:return\n",
    "    node.visited=True\n",
    "    print(node.name,end=\"\")\n",
    "    for i in node.neighbour:\n",
    "        if i.visited==False:\n",
    "            dfs_pass(i)"
   ]
  },
  {
   "cell_type": "code",
   "execution_count": 18,
   "metadata": {},
   "outputs": [
    {
     "name": "stdout",
     "output_type": "stream",
     "text": [
      "GJIH \n",
      "K \n",
      "ACB \n",
      "DFE \n"
     ]
    }
   ],
   "source": [
    "for i in range(len(st)):\n",
    "    node=st.pop()\n",
    "    if node.visited==False:\n",
    "        dfs_pass(node)\n",
    "        print(\" \")"
   ]
  },
  {
   "cell_type": "code",
   "execution_count": null,
   "metadata": {},
   "outputs": [],
   "source": []
  }
 ],
 "metadata": {
  "kernelspec": {
   "display_name": "Python 3",
   "language": "python",
   "name": "python3"
  },
  "language_info": {
   "codemirror_mode": {
    "name": "ipython",
    "version": 3
   },
   "file_extension": ".py",
   "mimetype": "text/x-python",
   "name": "python",
   "nbconvert_exporter": "python",
   "pygments_lexer": "ipython3",
   "version": "3.7.3"
  }
 },
 "nbformat": 4,
 "nbformat_minor": 2
}
