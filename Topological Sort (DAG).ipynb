{
 "cells": [
  {
   "cell_type": "code",
   "execution_count": 1,
   "metadata": {},
   "outputs": [],
   "source": [
    "class Node(object):\n",
    "    def __init__(self,name):\n",
    "        self.name=name\n",
    "        self.neighbour=[]\n",
    "        self.visited=False"
   ]
  },
  {
   "cell_type": "code",
   "execution_count": 2,
   "metadata": {},
   "outputs": [],
   "source": [
    "class Algorithm(object):\n",
    "    st=[]\n",
    "    def TopologicalSort(self,node):\n",
    "        if node.visited==True:return\n",
    "        node.visited=True\n",
    "        if not node.neighbour:Algorithm.st.append(node.name);return\n",
    "        for i in node.neighbour:\n",
    "            if i.visited==False:\n",
    "                self.TopologicalSort(i)\n",
    "        Algorithm.st.append(node.name)\n",
    "        \n",
    "    def print_order(self):\n",
    "        size=len(Algorithm.st)\n",
    "        for i in range(size-1,-1,-1):\n",
    "            print(Algorithm.st[i],end=\" \")"
   ]
  },
  {
   "cell_type": "code",
   "execution_count": 3,
   "metadata": {},
   "outputs": [],
   "source": [
    "node1=Node('A')\n",
    "node2=Node('B')\n",
    "node3=Node('C')\n",
    "node4=Node('D')\n",
    "node5=Node('E')\n",
    "node6=Node('F')\n",
    "node7=Node('G')\n"
   ]
  },
  {
   "cell_type": "code",
   "execution_count": 4,
   "metadata": {},
   "outputs": [],
   "source": [
    "node1.neighbour.append(node3)\n",
    "node2.neighbour.append(node3)\n",
    "node2.neighbour.append(node5)\n",
    "node3.neighbour.append(node4)\n",
    "node4.neighbour.append(node6)\n",
    "node5.neighbour.append(node6)\n",
    "node6.neighbour.append(node7)"
   ]
  },
  {
   "cell_type": "code",
   "execution_count": 5,
   "metadata": {},
   "outputs": [],
   "source": [
    "algo=Algorithm()"
   ]
  },
  {
   "cell_type": "code",
   "execution_count": 6,
   "metadata": {},
   "outputs": [],
   "source": [
    "edge_list=[node1,node2,node3,node4,node5,node6,node7]"
   ]
  },
  {
   "cell_type": "code",
   "execution_count": 7,
   "metadata": {},
   "outputs": [],
   "source": [
    "for i in edge_list:\n",
    "    if i.visited==False: \n",
    "        algo.TopologicalSort(i)"
   ]
  },
  {
   "cell_type": "code",
   "execution_count": 8,
   "metadata": {},
   "outputs": [
    {
     "name": "stdout",
     "output_type": "stream",
     "text": [
      "One of the order is: B E A C D F G "
     ]
    }
   ],
   "source": [
    "print(\"One of the order is: \",end=\"\")\n",
    "algo.print_order()"
   ]
  },
  {
   "cell_type": "code",
   "execution_count": null,
   "metadata": {},
   "outputs": [],
   "source": []
  }
 ],
 "metadata": {
  "kernelspec": {
   "display_name": "Python 3",
   "language": "python",
   "name": "python3"
  },
  "language_info": {
   "codemirror_mode": {
    "name": "ipython",
    "version": 3
   },
   "file_extension": ".py",
   "mimetype": "text/x-python",
   "name": "python",
   "nbconvert_exporter": "python",
   "pygments_lexer": "ipython3",
   "version": "3.7.3"
  }
 },
 "nbformat": 4,
 "nbformat_minor": 2
}
